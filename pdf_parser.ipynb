{
  "cells": [
    {
      "cell_type": "code",
      "execution_count": 1,
      "metadata": {
        "id": "Cy_747YLx9CF"
      },
      "outputs": [],
      "source": [
        "!pip install PyPDF2 -q\n",
        "!pip install fitz -q\n",
        "!pip install PyMuPDF -q"
      ]
    },
    {
      "cell_type": "code",
      "execution_count": 2,
      "metadata": {
        "id": "je6nubYeywjr"
      },
      "outputs": [],
      "source": [
        "import PyPDF2\n",
        "import glob\n",
        "import fitz\n",
        "import json\n",
        "import re"
      ]
    },
    {
      "cell_type": "code",
      "execution_count": 3,
      "metadata": {
        "id": "Pr7BLfL4y3St"
      },
      "outputs": [],
      "source": [
        "def find_files(path_to_folder: str = '/content'):\n",
        "    pdf_files = glob.glob(path_to_folder + '/*.pdf')\n",
        "    #pdf_files = glob.glob(folder_path + '/**/*.pdf', recursive=True) для рекурсивного поиска по сабдиректориям\n",
        "    return pdf_files"
      ]
    },
    {
      "cell_type": "code",
      "execution_count": 4,
      "metadata": {
        "id": "gsbul7ly0yUR"
      },
      "outputs": [],
      "source": [
        "def find_labels(pdf_file_):\n",
        "    page_num = 1\n",
        "    labels = {}\n",
        "    doc = fitz.open(pdf_file_)\n",
        "    page = doc.load_page\n",
        "\n",
        "    for page in doc:\n",
        "        page_labels = []\n",
        "        for annot in page.annots():\n",
        "            text = page.get_textbox(annot.rect)\n",
        "            page_labels.append(text)\n",
        "        labels[page_num] = page_labels\n",
        "        page_num += 1\n",
        "    return labels\n",
        "\n",
        "\n",
        "\n",
        "def pdf2text(pdf_files):\n",
        "    data = {}\n",
        "    for pdf_file_ in pdf_files:\n",
        "        file_map = {}\n",
        "\n",
        "        labels = find_labels(pdf_file_)\n",
        "\n",
        "        pdf_file = open(pdf_file_, 'rb')\n",
        "        pdf_reader = PyPDF2.PdfReader(pdf_file)\n",
        "        num_pages = len(pdf_reader.pages)\n",
        "\n",
        "        for page in range(num_pages):\n",
        "            pdf_page = pdf_reader.pages[page]\n",
        "            pdf_text = pdf_page.extract_text()\n",
        "\n",
        "            file_map[page + 1] = {'text': pdf_text, 'labels': labels[page + 1]}\n",
        "        data[pdf_file_[9:]] = file_map\n",
        "\n",
        "        pdf_file.close()\n",
        "\n",
        "    return data"
      ]
    },
    {
      "cell_type": "code",
      "execution_count": 16,
      "metadata": {
        "id": "u_tyIY49wBj-"
      },
      "outputs": [],
      "source": [
        "def find_theme(text):\n",
        "    text = text.replace('\\n', '')\n",
        "    matches = re.findall(r'«(.+?)»', text)\n",
        "\n",
        "    len_counter = 0\n",
        "    chosed_text = ''\n",
        "    for text in matches:\n",
        "        if len(text) > len_counter:\n",
        "            len_counter = len(text)\n",
        "            chosed_text = text\n",
        "    return chosed_text"
      ]
    },
    {
      "cell_type": "code",
      "execution_count": 6,
      "metadata": {
        "id": "tLHCFbrazzaC"
      },
      "outputs": [],
      "source": [
        "pdf_files = find_files()"
      ]
    },
    {
      "cell_type": "code",
      "execution_count": 7,
      "metadata": {
        "id": "igEZmWVT22cR"
      },
      "outputs": [],
      "source": [
        "data = pdf2text(pdf_files)"
      ]
    }
  ],
  "metadata": {
    "colab": {
      "provenance": []
    },
    "kernelspec": {
      "display_name": "Python 3",
      "name": "python3"
    },
    "language_info": {
      "name": "python"
    }
  },
  "nbformat": 4,
  "nbformat_minor": 0
}
